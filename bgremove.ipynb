{
 "cells": [
  {
   "cell_type": "code",
   "execution_count": null,
   "id": "0f0af983-1a92-4d2f-a7d9-065004d5c8cb",
   "metadata": {},
   "outputs": [],
   "source": [
    "#!pip install rembg"
   ]
  },
  {
   "cell_type": "markdown",
   "id": "b8931586-8b8d-4a7b-ba1f-cc2c496e1324",
   "metadata": {},
   "source": [
    "# Remove image background "
   ]
  },
  {
   "cell_type": "code",
   "execution_count": 2,
   "id": "d2f598ed-4331-47f5-bc08-c1ed7f422c37",
   "metadata": {},
   "outputs": [],
   "source": [
    "from rembg import remove\n",
    "from PIL import Image \n",
    "input_path = 'madaxweyne-muuse.jpeg'\n",
    "output_path = 'madaxweyne-muuse.png'\n",
    "input = Image.open(input_path)\n",
    "output = remove(input)\n",
    "output.save(output_path)"
   ]
  }
 ],
 "metadata": {
  "kernelspec": {
   "display_name": "Python 3 (ipykernel)",
   "language": "python",
   "name": "python3"
  },
  "language_info": {
   "codemirror_mode": {
    "name": "ipython",
    "version": 3
   },
   "file_extension": ".py",
   "mimetype": "text/x-python",
   "name": "python",
   "nbconvert_exporter": "python",
   "pygments_lexer": "ipython3",
   "version": "3.9.7"
  }
 },
 "nbformat": 4,
 "nbformat_minor": 5
}
